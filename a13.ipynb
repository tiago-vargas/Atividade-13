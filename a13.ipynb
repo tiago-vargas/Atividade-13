{
 "cells": [
  {
   "cell_type": "markdown",
   "metadata": {},
   "source": [
    "# Atividade 13\n",
    "\n",
    "## Tiago Vargas Pereira de Oliveira\n",
    "\n",
    "#### 20211045050365"
   ]
  },
  {
   "cell_type": "code",
   "execution_count": 1,
   "metadata": {},
   "outputs": [],
   "source": [
    "from fun import Graph\n"
   ]
  },
  {
   "cell_type": "markdown",
   "metadata": {},
   "source": [
    "## Q1\n",
    "\n",
    "**Implemente com a linguagem de sua preferência um programa em que dado um grafos não dirigidos na forma de matriz de adjacência com vértices igual a 5 como entradas, verificar se o grafo é regular, após a validação do grafo regular o programa irá mostrar se ele é planar?**"
   ]
  },
  {
   "cell_type": "code",
   "execution_count": 2,
   "metadata": {},
   "outputs": [],
   "source": [
    "k_5_matrix = [\n",
    "\t[0, 1, 1, 1, 1],\n",
    "\t[1, 0, 1, 1, 1],\n",
    "\t[1, 1, 0, 1, 1],\n",
    "\t[1, 1, 1, 0, 1],\n",
    "\t[1, 1, 1, 1, 0],\n",
    "]\n",
    "k_5 = Graph(k_5_matrix)\n"
   ]
  },
  {
   "cell_type": "code",
   "execution_count": 3,
   "metadata": {},
   "outputs": [
    {
     "data": {
      "text/plain": [
       "True"
      ]
     },
     "execution_count": 3,
     "metadata": {},
     "output_type": "execute_result"
    }
   ],
   "source": [
    "k_5.is_regular()\n"
   ]
  },
  {
   "cell_type": "code",
   "execution_count": 4,
   "metadata": {},
   "outputs": [
    {
     "data": {
      "text/plain": [
       "False"
      ]
     },
     "execution_count": 4,
     "metadata": {},
     "output_type": "execute_result"
    }
   ],
   "source": [
    "k_5.is_planar()\n"
   ]
  },
  {
   "cell_type": "code",
   "execution_count": 5,
   "metadata": {},
   "outputs": [],
   "source": [
    "k_4_matrix = [\n",
    "\t[0, 1, 1, 1],\n",
    "\t[1, 0, 1, 1],\n",
    "\t[1, 1, 0, 1],\n",
    "\t[1, 1, 1, 0],\n",
    "]\n",
    "k_4 = Graph(k_4_matrix)\n"
   ]
  },
  {
   "cell_type": "code",
   "execution_count": 6,
   "metadata": {},
   "outputs": [
    {
     "data": {
      "text/plain": [
       "True"
      ]
     },
     "execution_count": 6,
     "metadata": {},
     "output_type": "execute_result"
    }
   ],
   "source": [
    "k_4.is_regular()\n"
   ]
  },
  {
   "cell_type": "code",
   "execution_count": 7,
   "metadata": {},
   "outputs": [
    {
     "data": {
      "text/plain": [
       "True"
      ]
     },
     "execution_count": 7,
     "metadata": {},
     "output_type": "execute_result"
    }
   ],
   "source": [
    "k_4.is_planar()\n"
   ]
  },
  {
   "cell_type": "code",
   "execution_count": 8,
   "metadata": {},
   "outputs": [],
   "source": [
    "matrix = [\n",
    "\t[0, 1, 1, 0],\n",
    "\t[1, 0, 1, 1],\n",
    "\t[1, 1, 0, 1],\n",
    "\t[0, 1, 1, 0]\n",
    "]\n",
    "graph = Graph(matrix)\n"
   ]
  },
  {
   "cell_type": "code",
   "execution_count": 9,
   "metadata": {},
   "outputs": [
    {
     "data": {
      "text/plain": [
       "False"
      ]
     },
     "execution_count": 9,
     "metadata": {},
     "output_type": "execute_result"
    }
   ],
   "source": [
    "graph.is_regular()\n"
   ]
  },
  {
   "cell_type": "code",
   "execution_count": 10,
   "metadata": {},
   "outputs": [
    {
     "data": {
      "text/plain": [
       "True"
      ]
     },
     "execution_count": 10,
     "metadata": {},
     "output_type": "execute_result"
    }
   ],
   "source": [
    "graph.is_planar()\n"
   ]
  },
  {
   "cell_type": "markdown",
   "metadata": {},
   "source": [
    "## Q2\n",
    "\n",
    "**Implemente um programa em que mostre via matriz de incidência um grafo não dirigido com 6 faces.**"
   ]
  },
  {
   "cell_type": "code",
   "execution_count": 11,
   "metadata": {},
   "outputs": [],
   "source": [
    "from fun import generate_random_incidence_matrix_with_6_faces\n"
   ]
  },
  {
   "cell_type": "code",
   "execution_count": 12,
   "metadata": {},
   "outputs": [
    {
     "data": {
      "text/plain": [
       "[[0, 0, 1, 0, 0, 0, 1, 0],\n",
       " [1, 1, 0, 0, 0, 1, 1, 0],\n",
       " [0, 1, 0, 1, 1, 0, 0, 1],\n",
       " [1, 0, 1, 1, 1, 1, 0, 1]]"
      ]
     },
     "execution_count": 12,
     "metadata": {},
     "output_type": "execute_result"
    }
   ],
   "source": [
    "generate_random_incidence_matrix_with_6_faces()\n"
   ]
  },
  {
   "cell_type": "code",
   "execution_count": 14,
   "metadata": {},
   "outputs": [
    {
     "data": {
      "text/plain": [
       "[[0, 0, 0, 1, 0, 0, 1, 0, 0, 1],\n",
       " [0, 1, 0, 0, 0, 1, 0, 1, 1, 0],\n",
       " [0, 0, 0, 0, 1, 0, 0, 0, 0, 0],\n",
       " [1, 0, 1, 0, 0, 1, 1, 0, 0, 1],\n",
       " [0, 1, 1, 1, 1, 0, 0, 0, 0, 0],\n",
       " [1, 0, 0, 0, 0, 0, 0, 1, 1, 0]]"
      ]
     },
     "execution_count": 14,
     "metadata": {},
     "output_type": "execute_result"
    }
   ],
   "source": [
    "generate_random_incidence_matrix_with_6_faces()\n"
   ]
  },
  {
   "cell_type": "markdown",
   "metadata": {},
   "source": [
    "## Q3\n",
    "\n",
    "**Implemente um programa em que dado a matriz de incidência de um grafo não dirigido como entrada, o programa irá identificar quantos nós dará para fazer uma redução em série.**"
   ]
  },
  {
   "cell_type": "code",
   "execution_count": 2,
   "metadata": {},
   "outputs": [],
   "source": [
    "def count_reducible_nodes(incidence_matrix: list[list[int]]) -> int:\n",
    "\tcount = 0\n",
    "\n",
    "\tfor node in incidence_matrix:\n",
    "\t\t# A quantos outros nós ele tá conectado\n",
    "\t\tedges = sum(1 for edge in node if edge == 1)\n",
    "\n",
    "\t\t# Se tiver conectados a só 2 nós, então dá pra reduzir\n",
    "\t\tif edges == 2:\n",
    "\t\t\tcount += 1\n",
    "\n",
    "\treturn count\n"
   ]
  },
  {
   "cell_type": "markdown",
   "metadata": {},
   "source": [
    "```\n",
    "   a     b     c\n",
    "A --- B --- C --- D\n",
    "      ^     ^\n",
    "```"
   ]
  },
  {
   "cell_type": "code",
   "execution_count": 3,
   "metadata": {},
   "outputs": [
    {
     "data": {
      "text/plain": [
       "2"
      ]
     },
     "execution_count": 3,
     "metadata": {},
     "output_type": "execute_result"
    }
   ],
   "source": [
    "matrix = [\n",
    "\t# a  b  c\n",
    "\t[ 1, 0, 0],  # A\n",
    "\t[ 1, 1, 0],  # B\n",
    "\t[ 0, 1, 1],  # C\n",
    "\t[ 0, 0, 1],  # D\n",
    "]\n",
    "\n",
    "count_reducible_nodes(matrix)\n"
   ]
  },
  {
   "cell_type": "markdown",
   "metadata": {},
   "source": [
    "## Q4\n",
    "\n",
    "**Implemente um programa em que dado a matriz de adjacência de um grafo não dirigido como entrada, o programa irá mostrar quantas bordas existem no grafo.**"
   ]
  },
  {
   "cell_type": "markdown",
   "metadata": {},
   "source": [
    "Esse problema não precisa da figura do grafo?"
   ]
  },
  {
   "cell_type": "code",
   "execution_count": 63,
   "metadata": {},
   "outputs": [],
   "source": [
    "def count_edges(adjacency_matrix: list[list[int]]) -> int:\n",
    "\tcounter = 0\n",
    "\tn = len(adjacency_matrix)\n",
    "\tfor i in range(n):\n",
    "\t\tfor j in range(n):\n",
    "\t\t\tif adjacency_matrix[i][j] == 1:\n",
    "\t\t\t\t# Conta faces\n",
    "\t\t\t\tcounter += 1\n",
    "\tfor i in range(n):\n",
    "\t\tif sum(adjacency_matrix[i]) == 1:\n",
    "\t\t\t# Desconta spikes\n",
    "\t\t\tcounter -= 1\n",
    "\treturn counter // 2\n"
   ]
  },
  {
   "cell_type": "markdown",
   "metadata": {},
   "source": [
    "```\n",
    "B\n",
    "| \\\n",
    "|  A --- D\n",
    "| /\n",
    "C\n",
    "```"
   ]
  },
  {
   "cell_type": "code",
   "execution_count": 61,
   "metadata": {},
   "outputs": [
    {
     "data": {
      "text/plain": [
       "3"
      ]
     },
     "execution_count": 61,
     "metadata": {},
     "output_type": "execute_result"
    }
   ],
   "source": [
    "n = [\n",
    "\t# A  B  C  D\n",
    "\t[ 0, 1, 1, 1],  # A\n",
    "\t[ 1, 0, 1, 0],  # B\n",
    "\t[ 1, 1, 0, 0],  # C\n",
    "\t[ 1, 0, 0, 0],  # D\n",
    "]\n",
    "\n",
    "count_edges(n)\n"
   ]
  },
  {
   "cell_type": "markdown",
   "metadata": {},
   "source": [
    "```\n",
    "A --- D\n",
    "|\\   /| \\\n",
    "|  E  |  F\n",
    "|/   \\| /\n",
    "B --- C\n",
    "```"
   ]
  },
  {
   "cell_type": "code",
   "execution_count": 62,
   "metadata": {},
   "outputs": [
    {
     "data": {
      "text/plain": [
       "10"
      ]
     },
     "execution_count": 62,
     "metadata": {},
     "output_type": "execute_result"
    }
   ],
   "source": [
    "n = [\n",
    "\t# A  B  C  D  E  F\n",
    "\t[ 0, 1, 0, 1, 1, 0],  # A\n",
    "\t[ 1, 0, 1, 0, 1, 0],  # B\n",
    "\t[ 0, 1, 0, 1, 1, 1],  # C\n",
    "\t[ 1, 0, 1, 0, 1, 1],  # D\n",
    "\t[ 1, 1, 1, 1, 0, 0],  # E\n",
    "\t[ 0, 0, 1, 1, 0, 0],  # F\n",
    "]\n",
    "\n",
    "count_edges(n)\n"
   ]
  }
 ],
 "metadata": {
  "kernelspec": {
   "display_name": ".venv",
   "language": "python",
   "name": "python3"
  },
  "language_info": {
   "codemirror_mode": {
    "name": "ipython",
    "version": 3
   },
   "file_extension": ".py",
   "mimetype": "text/x-python",
   "name": "python",
   "nbconvert_exporter": "python",
   "pygments_lexer": "ipython3",
   "version": "3.11.6"
  }
 },
 "nbformat": 4,
 "nbformat_minor": 2
}
